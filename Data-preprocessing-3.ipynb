{
 "cells": [
  {
   "attachments": {},
   "cell_type": "markdown",
   "id": "e038cbcf",
   "metadata": {},
   "source": [
    "# Data preprocessing Notebook\n",
    "This notebook shows how the Bloomberg & Reuters dataset was preprocessed and used to create our financial news headlines dataset for sentiment analysis."
   ]
  },
  {
   "attachments": {},
   "cell_type": "markdown",
   "id": "3e648d07",
   "metadata": {},
   "source": [
    "## Modules"
   ]
  },
  {
   "cell_type": "code",
   "execution_count": 1,
   "id": "876ed20f",
   "metadata": {},
   "outputs": [],
   "source": [
    "import pandas as pd\n",
    "import os\n",
    "from datetime import datetime\n",
    "import re\n",
    "import matplotlib.pyplot as plt\n",
    "import matplotlib.dates as mdates\n",
    "from dateutil import parser\n",
    "from datetime import timezone\n",
    "import pytz"
   ]
  },
  {
   "cell_type": "code",
   "execution_count": 2,
   "id": "f5038fbe-ed3d-4601-ad10-b140a3d6505d",
   "metadata": {},
   "outputs": [],
   "source": [
    "def rescue_code(function):\n",
    "    import inspect\n",
    "    get_ipython().set_next_input(\"\".join(inspect.getsourcelines(function)[0]))"
   ]
  },
  {
   "attachments": {},
   "cell_type": "markdown",
   "id": "f2f20cac-2d07-4b0c-9678-ea1b23f60b68",
   "metadata": {},
   "source": [
    "## Bloomberg dataset"
   ]
  },
  {
   "attachments": {},
   "cell_type": "markdown",
   "id": "92093608",
   "metadata": {},
   "source": [
    "### Text encoding for news files"
   ]
  },
  {
   "cell_type": "code",
   "execution_count": null,
   "id": "f7e206b9-932d-4c98-9af7-d6f29625f507",
   "metadata": {},
   "outputs": [],
   "source": [
    "def read_file(file_path):    \n",
    "    encodings = ['utf-8', 'latin-1', 'iso-8859-1', 'windows-1252', 'utf-16']\n",
    "    for encoding in encodings:\n",
    "        try:\n",
    "            with open(file_path, 'r', encoding=encoding) as file:\n",
    "                text = file.read()\n",
    "                return text\n",
    "                \n",
    "        except UnicodeDecodeError:\n",
    "            continue  # Try the next encoding\n",
    "            \n",
    "    print(f\"Could not read file {file_path} with any of the specified encodings.\")\n",
    "\n",
    "    return None"
   ]
  },
  {
   "attachments": {},
   "cell_type": "markdown",
   "id": "d5366002-4692-4b67-9a48-8d9c4b93b1c1",
   "metadata": {},
   "source": [
    "### Match the timestamp format"
   ]
  },
  {
   "cell_type": "code",
   "execution_count": 4,
   "id": "09b32212",
   "metadata": {},
   "outputs": [],
   "source": [
    "def extract_timestamp(text):\n",
    "    ts_pattern = r'\\d{4}-\\d{2}-\\d{2}T\\d{2}:\\d{2}:\\d{2}Z'\n",
    "    match = re.search(ts_pattern, text)\n",
    "    if match:\n",
    "        return datetime.fromisoformat(match.group().replace('Z', '+00:00'))\n",
    "        \n",
    "    return None"
   ]
  },
  {
   "attachments": {},
   "cell_type": "markdown",
   "id": "251a449b-2d0c-4e96-8833-d3999289d0a1",
   "metadata": {},
   "source": [
    "### Match the headline format "
   ]
  },
  {
   "cell_type": "code",
   "execution_count": 5,
   "id": "041aa8cb-c98e-483d-80f2-57e208c37ce2",
   "metadata": {},
   "outputs": [],
   "source": [
    "def extract_headline(text):\n",
    "    lines = text.split('\\n')\n",
    "    for i, line in enumerate(lines):\n",
    "        if '--' in line:\n",
    "            # The headline might be on this line after '--', or on the next line\n",
    "            parts = line.split('--', 1) # Split the line at the first occurrence of '--'\n",
    "            if len(parts) > 1 and parts[1].strip(): # If there is text following '--'\n",
    "                return parts[1].strip()\n",
    "                \n",
    "            elif i + 1 < len(lines): # If there is a next line\n",
    "                next_line = lines[i + 1].strip()\n",
    "                if next_line:\n",
    "                    return next_line    \n",
    "            break\n",
    "            \n",
    "    return None"
   ]
  },
  {
   "attachments": {},
   "cell_type": "markdown",
   "id": "559d1da7-63ae-4b72-ad53-1428e986b7db",
   "metadata": {},
   "source": [
    "### Create the DataFrame (batch processing)"
   ]
  },
  {
   "cell_type": "code",
   "execution_count": 2,
   "id": "0239aafc-42fa-4035-9d15-9a9757e59397",
   "metadata": {},
   "outputs": [],
   "source": [
    "bloomberg_dir = '/Users/macbook/Desktop/Year3/Dissertation/Coding/Exp1/Datasets/Sentiment Analysis/Bloomberg'"
   ]
  },
  {
   "cell_type": "code",
   "execution_count": 7,
   "id": "5676dd39-bd55-44d7-967c-bafc7cb831f5",
   "metadata": {},
   "outputs": [],
   "source": [
    "batch_size=2000"
   ]
  },
  {
   "cell_type": "code",
   "execution_count": 8,
   "id": "b9f741fb-c200-4817-b370-50367f748f15",
   "metadata": {},
   "outputs": [],
   "source": [
    "all_files = [os.path.join(dp, f) for dp, dn, filenames in os.walk(bloomberg_dir) for f in filenames if f != '.DS_Store']\n",
    "num_batches = len(all_files) // batch_size + (1 if len(all_files) % batch_size else 0)"
   ]
  },
  {
   "cell_type": "code",
   "execution_count": 9,
   "id": "9bf0bc59-a7b6-4066-906a-ebb0ac1e0e9d",
   "metadata": {},
   "outputs": [],
   "source": [
    "def create_bloomberg():\n",
    "    bloomberg_data = []\n",
    "    missing_data_files = 0\n",
    "    \n",
    "    for i in range(num_batches):\n",
    "        start_index = i * batch_size\n",
    "        end_index = start_index + batch_size\n",
    "        batch_files = all_files[start_index:end_index]\n",
    "        \n",
    "        print(f\"Processing batch {i+1}/{num_batches}...\")  # Progress update\n",
    "\n",
    "        for file_path in batch_files:\n",
    "            content = read_file(file_path)\n",
    "            if content:\n",
    "                timestamp = extract_timestamp(content)\n",
    "                headline = extract_headline(content)\n",
    "                if timestamp and headline:\n",
    "                    bloomberg_data.append({'timestamp': timestamp, 'headline': headline})\n",
    "                \n",
    "                else:\n",
    "                    missing_data_files += 1\n",
    "            \n",
    "            else:\n",
    "                missing_data_files += 1\n",
    "                \n",
    "        bloomberg_df = pd.DataFrame(bloomberg_data, columns=['timestamp', 'headline'])\n",
    "        \n",
    "    print(f\"Missing data in {missing_data_files} files.\")\n",
    "    return bloomberg_df"
   ]
  },
  {
   "cell_type": "code",
   "execution_count": 76,
   "id": "a94578ff-6a88-485d-ab54-a3f58d785321",
   "metadata": {},
   "outputs": [
    {
     "name": "stdout",
     "output_type": "stream",
     "text": [
      "Processing batch 1/225...\n",
      "Processing batch 2/225...\n",
      "Processing batch 3/225...\n",
      "Processing batch 4/225...\n",
      "Processing batch 5/225...\n",
      "Processing batch 6/225...\n",
      "Processing batch 7/225...\n",
      "Processing batch 8/225...\n",
      "Processing batch 9/225...\n",
      "Processing batch 10/225...\n",
      "Processing batch 11/225...\n",
      "Processing batch 12/225...\n",
      "Processing batch 13/225...\n",
      "Processing batch 14/225...\n",
      "Processing batch 15/225...\n",
      "Processing batch 16/225...\n",
      "Processing batch 17/225...\n",
      "Processing batch 18/225...\n",
      "Processing batch 19/225...\n",
      "Processing batch 20/225...\n",
      "Processing batch 21/225...\n",
      "Processing batch 22/225...\n",
      "Processing batch 23/225...\n",
      "Processing batch 24/225...\n",
      "Processing batch 25/225...\n",
      "Processing batch 26/225...\n",
      "Processing batch 27/225...\n",
      "Processing batch 28/225...\n",
      "Processing batch 29/225...\n",
      "Processing batch 30/225...\n",
      "Processing batch 31/225...\n",
      "Processing batch 32/225...\n",
      "Processing batch 33/225...\n",
      "Processing batch 34/225...\n",
      "Processing batch 35/225...\n",
      "Processing batch 36/225...\n",
      "Processing batch 37/225...\n",
      "Processing batch 38/225...\n",
      "Processing batch 39/225...\n",
      "Processing batch 40/225...\n",
      "Processing batch 41/225...\n",
      "Processing batch 42/225...\n",
      "Processing batch 43/225...\n",
      "Processing batch 44/225...\n",
      "Processing batch 45/225...\n",
      "Processing batch 46/225...\n",
      "Processing batch 47/225...\n",
      "Processing batch 48/225...\n",
      "Processing batch 49/225...\n",
      "Processing batch 50/225...\n",
      "Processing batch 51/225...\n",
      "Processing batch 52/225...\n",
      "Processing batch 53/225...\n",
      "Processing batch 54/225...\n",
      "Processing batch 55/225...\n",
      "Processing batch 56/225...\n",
      "Processing batch 57/225...\n",
      "Processing batch 58/225...\n",
      "Processing batch 59/225...\n",
      "Processing batch 60/225...\n",
      "Processing batch 61/225...\n",
      "Processing batch 62/225...\n",
      "Processing batch 63/225...\n",
      "Processing batch 64/225...\n",
      "Processing batch 65/225...\n",
      "Processing batch 66/225...\n",
      "Processing batch 67/225...\n",
      "Processing batch 68/225...\n",
      "Processing batch 69/225...\n",
      "Processing batch 70/225...\n",
      "Processing batch 71/225...\n",
      "Processing batch 72/225...\n",
      "Processing batch 73/225...\n",
      "Processing batch 74/225...\n",
      "Processing batch 75/225...\n",
      "Processing batch 76/225...\n",
      "Processing batch 77/225...\n",
      "Processing batch 78/225...\n",
      "Processing batch 79/225...\n",
      "Processing batch 80/225...\n",
      "Processing batch 81/225...\n",
      "Processing batch 82/225...\n",
      "Processing batch 83/225...\n",
      "Processing batch 84/225...\n",
      "Processing batch 85/225...\n",
      "Processing batch 86/225...\n",
      "Processing batch 87/225...\n",
      "Processing batch 88/225...\n",
      "Processing batch 89/225...\n",
      "Processing batch 90/225...\n",
      "Processing batch 91/225...\n",
      "Processing batch 92/225...\n",
      "Processing batch 93/225...\n",
      "Processing batch 94/225...\n",
      "Processing batch 95/225...\n",
      "Processing batch 96/225...\n",
      "Processing batch 97/225...\n",
      "Processing batch 98/225...\n",
      "Processing batch 99/225...\n",
      "Processing batch 100/225...\n",
      "Processing batch 101/225...\n",
      "Processing batch 102/225...\n",
      "Processing batch 103/225...\n",
      "Processing batch 104/225...\n",
      "Processing batch 105/225...\n",
      "Processing batch 106/225...\n",
      "Processing batch 107/225...\n",
      "Processing batch 108/225...\n",
      "Processing batch 109/225...\n",
      "Processing batch 110/225...\n",
      "Processing batch 111/225...\n",
      "Processing batch 112/225...\n",
      "Processing batch 113/225...\n",
      "Processing batch 114/225...\n",
      "Processing batch 115/225...\n",
      "Processing batch 116/225...\n",
      "Processing batch 117/225...\n",
      "Processing batch 118/225...\n",
      "Processing batch 119/225...\n",
      "Processing batch 120/225...\n",
      "Processing batch 121/225...\n",
      "Processing batch 122/225...\n",
      "Processing batch 123/225...\n",
      "Processing batch 124/225...\n",
      "Processing batch 125/225...\n",
      "Processing batch 126/225...\n",
      "Processing batch 127/225...\n",
      "Processing batch 128/225...\n",
      "Processing batch 129/225...\n",
      "Processing batch 130/225...\n",
      "Processing batch 131/225...\n",
      "Processing batch 132/225...\n",
      "Processing batch 133/225...\n",
      "Processing batch 134/225...\n",
      "Processing batch 135/225...\n",
      "Processing batch 136/225...\n",
      "Processing batch 137/225...\n",
      "Processing batch 138/225...\n",
      "Processing batch 139/225...\n",
      "Processing batch 140/225...\n",
      "Processing batch 141/225...\n",
      "Processing batch 142/225...\n",
      "Processing batch 143/225...\n",
      "Processing batch 144/225...\n",
      "Processing batch 145/225...\n",
      "Processing batch 146/225...\n",
      "Processing batch 147/225...\n",
      "Processing batch 148/225...\n",
      "Processing batch 149/225...\n",
      "Processing batch 150/225...\n",
      "Processing batch 151/225...\n",
      "Processing batch 152/225...\n",
      "Processing batch 153/225...\n",
      "Processing batch 154/225...\n",
      "Processing batch 155/225...\n",
      "Processing batch 156/225...\n",
      "Processing batch 157/225...\n",
      "Processing batch 158/225...\n",
      "Processing batch 159/225...\n",
      "Processing batch 160/225...\n",
      "Processing batch 161/225...\n",
      "Processing batch 162/225...\n",
      "Processing batch 163/225...\n",
      "Processing batch 164/225...\n",
      "Processing batch 165/225...\n",
      "Processing batch 166/225...\n",
      "Processing batch 167/225...\n",
      "Processing batch 168/225...\n",
      "Processing batch 169/225...\n",
      "Processing batch 170/225...\n",
      "Processing batch 171/225...\n",
      "Processing batch 172/225...\n",
      "Processing batch 173/225...\n",
      "Processing batch 174/225...\n",
      "Processing batch 175/225...\n",
      "Processing batch 176/225...\n",
      "Processing batch 177/225...\n",
      "Processing batch 178/225...\n",
      "Processing batch 179/225...\n",
      "Processing batch 180/225...\n",
      "Processing batch 181/225...\n",
      "Processing batch 182/225...\n",
      "Processing batch 183/225...\n",
      "Processing batch 184/225...\n",
      "Processing batch 185/225...\n",
      "Processing batch 186/225...\n",
      "Processing batch 187/225...\n",
      "Processing batch 188/225...\n",
      "Processing batch 189/225...\n",
      "Processing batch 190/225...\n",
      "Processing batch 191/225...\n",
      "Processing batch 192/225...\n",
      "Processing batch 193/225...\n",
      "Processing batch 194/225...\n",
      "Processing batch 195/225...\n",
      "Processing batch 196/225...\n",
      "Processing batch 197/225...\n",
      "Processing batch 198/225...\n",
      "Processing batch 199/225...\n",
      "Processing batch 200/225...\n",
      "Processing batch 201/225...\n",
      "Processing batch 202/225...\n",
      "Processing batch 203/225...\n",
      "Processing batch 204/225...\n",
      "Processing batch 205/225...\n",
      "Processing batch 206/225...\n",
      "Processing batch 207/225...\n",
      "Processing batch 208/225...\n",
      "Processing batch 209/225...\n",
      "Processing batch 210/225...\n",
      "Processing batch 211/225...\n",
      "Processing batch 212/225...\n",
      "Processing batch 213/225...\n",
      "Processing batch 214/225...\n",
      "Processing batch 215/225...\n",
      "Processing batch 216/225...\n",
      "Processing batch 217/225...\n",
      "Processing batch 218/225...\n",
      "Processing batch 219/225...\n",
      "Processing batch 220/225...\n",
      "Processing batch 221/225...\n",
      "Processing batch 222/225...\n",
      "Processing batch 223/225...\n",
      "Processing batch 224/225...\n",
      "Processing batch 225/225...\n",
      "Missing data in 1019 files.\n"
     ]
    }
   ],
   "source": [
    "bloomberg_df = create_bloomberg()"
   ]
  },
  {
   "attachments": {},
   "cell_type": "markdown",
   "id": "e7076369-cc38-4975-8043-75a1502d86e7",
   "metadata": {},
   "source": [
    "### Sort and preprocess the data"
   ]
  },
  {
   "cell_type": "code",
   "execution_count": 86,
   "id": "b95e3c83-aae0-4c34-bca0-bfe0888b9ae0",
   "metadata": {},
   "outputs": [],
   "source": [
    "# Format the timestamp \n",
    "bloomberg_df['timestamp'] = pd.to_datetime(bloomberg_df['timestamp']).dt.strftime('%Y-%m-%d %H:%M')"
   ]
  },
  {
   "cell_type": "code",
   "execution_count": 89,
   "id": "2a3a968b",
   "metadata": {},
   "outputs": [],
   "source": [
    "bloomberg_df.sort_values(by='timestamp', inplace=True)"
   ]
  },
  {
   "attachments": {},
   "cell_type": "markdown",
   "id": "2624af7d-a7a6-4ef5-8d2d-24786c6da3ea",
   "metadata": {},
   "source": [
    "### Save the DataFrame into a .CSV file"
   ]
  },
  {
   "cell_type": "code",
   "execution_count": 91,
   "id": "44b304a1-3d3a-4680-9aed-3dc1a8acbb4b",
   "metadata": {},
   "outputs": [],
   "source": [
    "bloomberg_df.to_csv('/Users/macbook/Desktop/Year3/Dissertation/Coding/Exp1/Dataset/Bloomberg/Bloomberg.csv', index=False)"
   ]
  },
  {
   "attachments": {},
   "cell_type": "markdown",
   "id": "bc21f95e-7a83-45d9-a782-ddcc353dce41",
   "metadata": {},
   "source": [
    "### Plot the bar chart"
   ]
  },
  {
   "cell_type": "code",
   "execution_count": 49,
   "id": "3c427e60-a441-4db1-bfe5-b0f48dc44fa8",
   "metadata": {},
   "outputs": [],
   "source": [
    "def create_bar(df):\n",
    "    df['timestamp'] = pd.to_datetime(df['timestamp'])\n",
    "    df['weekday'] = df['timestamp'].dt.day_name()\n",
    "    day_of_week_counts = df['weekday'].value_counts()\n",
    "    \n",
    "    order = ['Monday', 'Tuesday', 'Wednesday', 'Thursday', 'Friday', 'Saturday', 'Sunday']\n",
    "    day_of_week_counts = day_of_week_counts.reindex(order)\n",
    "    \n",
    "    plt.figure(figsize=(5, 3))\n",
    "    ax = day_of_week_counts.plot(kind='bar', color=(0.2, 0.4, 0.6), width=0.8)\n",
    "    plt.xticks(rotation=45, fontsize=7)\n",
    "    plt.yticks(fontsize=7)\n",
    "               \n",
    "    ax.get_yaxis().set_major_formatter(plt.FuncFormatter(lambda x, loc: \"{:,}\".format(int(x))))\n",
    "\n",
    "    plt.grid(axis='y', linestyle='--', color='gray', alpha=0.5)\n",
    "    plt.show()"
   ]
  },
  {
   "attachments": {},
   "cell_type": "markdown",
   "id": "10e008c0",
   "metadata": {},
   "source": [
    "### Plot the time-series gragh"
   ]
  },
  {
   "cell_type": "code",
   "execution_count": 32,
   "id": "8043092c",
   "metadata": {},
   "outputs": [],
   "source": [
    "def create_timeSeries(df):\n",
    "    # Ensure the 'timestamp' column is in datetime format\n",
    "    df['timestamp'] = pd.to_datetime(df['timestamp'])\n",
    "    \n",
    "    # Extract just the date part if the time isn't relevant\n",
    "    df['date'] = df['timestamp'].dt.date\n",
    "    \n",
    "    # Count the number of news articles per day\n",
    "    news_counts = df['date'].value_counts().sort_index()\n",
    "    \n",
    "    plt.figure(figsize=(4.9, 3.3))\n",
    "    plt.bar(news_counts.index, news_counts.values, color=(0.2, 0.4, 0.6), width=1.0)\n",
    "    \n",
    "    # Formatting the date to show only the beginning of each year on the x-axis\n",
    "    plt.gca().xaxis.set_major_locator(mdates.YearLocator())\n",
    "    plt.gca().xaxis.set_major_formatter(mdates.DateFormatter('%Y'))\n",
    "    plt.gca().xaxis.set_minor_locator(mdates.MonthLocator())\n",
    "    \n",
    "    plt.xticks(rotation=45, fontsize=7)\n",
    "    plt.yticks(fontsize=7)\n",
    "    plt.tight_layout()\n",
    "    \n",
    "    plt.grid(axis='y', linestyle='--', color='gray', alpha=0.5)\n",
    "    plt.show()"
   ]
  },
  {
   "attachments": {},
   "cell_type": "markdown",
   "id": "858d88e4-5073-4ea6-bd0e-0c61fb612bbe",
   "metadata": {},
   "source": [
    "### Data distribution"
   ]
  },
  {
   "attachments": {},
   "cell_type": "markdown",
   "id": "2322bb18",
   "metadata": {},
   "source": [
    "#### Over weekdays"
   ]
  },
  {
   "cell_type": "code",
   "execution_count": 93,
   "id": "2f675bac-fe05-4936-b87b-3fd0172942bd",
   "metadata": {},
   "outputs": [],
   "source": [
    "bloomberg_df_copy = bloomberg_df.copy(deep=True)"
   ]
  },
  {
   "cell_type": "code",
   "execution_count": 50,
   "id": "961a967c-9b8e-40be-b96e-6feb63fbe5af",
   "metadata": {},
   "outputs": [
    {
     "data": {
      "image/png": "[encoded data removed]",
      "text/plain": [
       "<Figure size 500x300 with 1 Axes>"
      ]
     },
     "metadata": {},
     "output_type": "display_data"
    }
   ],
   "source": [
    "create_bar(bloomberg_df_copy)"
   ]
  },
  {
   "cell_type": "code",
   "execution_count": 101,
   "id": "6345f60c-6405-4bdf-b64e-63d81d9f3b0e",
   "metadata": {},
   "outputs": [],
   "source": [
    "bloomberg_df_copy.to_csv('/Users/macbook/Desktop/Year3/Dissertation/Coding/Exp1/Dataset/Bloomberg/Bloomberg_copy.csv', index=False)"
   ]
  },
  {
   "attachments": {},
   "cell_type": "markdown",
   "id": "c04f8a50",
   "metadata": {},
   "source": [
    "#### News articles publsiehd per day/year"
   ]
  },
  {
   "cell_type": "code",
   "execution_count": 33,
   "id": "550c1d34",
   "metadata": {},
   "outputs": [
    {
     "data": {
      "image/png": "[encoded data removed]",
      "text/plain": [
       "<Figure size 490x330 with 1 Axes>"
      ]
     },
     "metadata": {},
     "output_type": "display_data"
    }
   ],
   "source": [
    "create_timeSeries(bloomberg_df_copy)"
   ]
  },
  {
   "attachments": {},
   "cell_type": "markdown",
   "id": "49b1259a-7fe3-409a-a682-14828dd38250",
   "metadata": {},
   "source": [
    "## Reuters"
   ]
  },
  {
   "cell_type": "code",
   "execution_count": 10,
   "id": "ae2fb2a9-4992-4aae-9db6-6a07fbba86d1",
   "metadata": {},
   "outputs": [],
   "source": [
    "reuters_dir = '/Users/macbook/Desktop/Year3/Dissertation/Coding/Exp1/Datasets/Sentiment Analysis/Reuters'"
   ]
  },
  {
   "attachments": {},
   "cell_type": "markdown",
   "id": "5f1e2d46",
   "metadata": {},
   "source": [
    "### Create the DataFrame (batch processing)"
   ]
  },
  {
   "cell_type": "code",
   "execution_count": 18,
   "id": "4b8b65c3-9fba-4fcc-9178-56ec5e8b817f",
   "metadata": {},
   "outputs": [],
   "source": [
    "batch_size = 200\n",
    "all_files = [os.path.join(dp, f) for dp, dn, filenames in os.walk(reuters_dir) for f in filenames if f.endswith('.tsv')]\n",
    "num_batches = len(all_files) // batch_size + (1 if len(all_files) % batch_size else 0)"
   ]
  },
  {
   "cell_type": "code",
   "execution_count": 19,
   "id": "bbcaaaec-97a6-4426-9413-a3264e58bf82",
   "metadata": {},
   "outputs": [],
   "source": [
    "def create_reuters():\n",
    "    \n",
    "    reuters_data = []\n",
    "    \n",
    "    for i in range(num_batches):\n",
    "        start_index = i * batch_size\n",
    "        end_index = start_index + batch_size\n",
    "        batch_files = all_files[start_index:end_index]\n",
    "        \n",
    "        print(f\"Processing batch {i+1}/{num_batches}...\")  # Progress update\n",
    "\n",
    "        for file_path in batch_files:\n",
    "            df = pd.read_csv(file_path, sep='\\t', usecols=['ts', 'title'])\n",
    "            reuters_data.append(df)\n",
    "\n",
    "    reuters_df = pd.concat(reuters_data, ignore_index=True)\n",
    "    \n",
    "    return reuters_df"
   ]
  },
  {
   "cell_type": "code",
   "execution_count": 20,
   "id": "9a7feecc-ff60-4754-932a-a21edd0034a4",
   "metadata": {},
   "outputs": [
    {
     "name": "stdout",
     "output_type": "stream",
     "text": [
      "Processing batch 1/18...\n",
      "Processing batch 2/18...\n",
      "Processing batch 3/18...\n",
      "Processing batch 4/18...\n",
      "Processing batch 5/18...\n",
      "Processing batch 6/18...\n",
      "Processing batch 7/18...\n",
      "Processing batch 8/18...\n",
      "Processing batch 9/18...\n",
      "Processing batch 10/18...\n",
      "Processing batch 11/18...\n",
      "Processing batch 12/18...\n",
      "Processing batch 13/18...\n",
      "Processing batch 14/18...\n",
      "Processing batch 15/18...\n",
      "Processing batch 16/18...\n",
      "Processing batch 17/18...\n",
      "Processing batch 18/18...\n"
     ]
    }
   ],
   "source": [
    "reuters_df = create_reuters()"
   ]
  },
  {
   "cell_type": "code",
   "execution_count": 21,
   "id": "ebfeea58-a8dd-4a46-8548-4c05b6d739b5",
   "metadata": {},
   "outputs": [
    {
     "name": "stdout",
     "output_type": "stream",
     "text": [
      "                            ts  \\\n",
      "0        20070627 11:59 PM EDT   \n",
      "1        20070627 11:43 PM EDT   \n",
      "2        20070627 11:40 PM EDT   \n",
      "3        20070627 11:40 PM EDT   \n",
      "4        20070627 11:40 PM EDT   \n",
      "...                        ...   \n",
      "8552064   20131110  6:54AM UTC   \n",
      "8552065   20131110  3:09AM UTC   \n",
      "8552066   20131110  2:40AM UTC   \n",
      "8552067   20131110  2:39AM UTC   \n",
      "8552068  20131110  12:46AM UTC   \n",
      "\n",
      "                                                     title  \n",
      "0        Southern Copper Peru workers call for strike t...  \n",
      "1        Red Sox's Schilling will not pitch again until...  \n",
      "2          TREASURIES-Futures inch down in Asia before Fed  \n",
      "3        FOREX-Yen breaks 3-day rise as risk-aversion e...  \n",
      "4                      Clemens still waiting for 350th win  \n",
      "...                                                    ...  \n",
      "8552064           Bo supporters set up new political party  \n",
      "8552065            Residents try to relocate after typhoon  \n",
      "8552066  GRAPHIC IMAGES: 10,000 deaths reported after t...  \n",
      "8552067  GRAPHIC IMAGES: Typhoon survivors mourn lost l...  \n",
      "8552068    George Clooney: global warming deniers \"stupid\"  \n",
      "\n",
      "[8552069 rows x 2 columns]\n"
     ]
    }
   ],
   "source": [
    "print(reuters_df)"
   ]
  },
  {
   "attachments": {},
   "cell_type": "markdown",
   "id": "e416fb88-4a55-4c38-9d75-d705ac3b7be7",
   "metadata": {},
   "source": [
    "### Sort and preprocess the data"
   ]
  },
  {
   "cell_type": "code",
   "execution_count": 26,
   "id": "1d08ec0f-6ea2-4121-94dc-f0880168305c",
   "metadata": {},
   "outputs": [],
   "source": [
    "# Rename the columns\n",
    "reuters_df.rename(columns={'ts': 'timestamp', 'title': 'headline'}, inplace=True)"
   ]
  },
  {
   "cell_type": "code",
   "execution_count": 46,
   "id": "b8fbca37-e6b5-4397-bc0a-6fcd0eaf90de",
   "metadata": {},
   "outputs": [
    {
     "name": "stdout",
     "output_type": "stream",
     "text": [
      "            timestamp                                           headline\n",
      "127460   INVALID_DATE   Effective Control Transport Inc. Article in C...\n",
      "484840   INVALID_DATE      <strong>reached an agreement with GM</strong>\n",
      "1116016  INVALID_DATE   Video Message From Her Excellency the Right H...\n",
      "2151064  INVALID_DATE  <strong>bolstered by a new California rule</st...\n",
      "2225415  INVALID_DATE                <strong>raised $10 million</strong>\n",
      "3435406  INVALID_DATE                                 spain's santander \n",
      "3802752  INVALID_DATE                                        TABLE-TIDE \n",
      "4306751  INVALID_DATE  KUWAIT'S NATIONAL MOBILE TELECOMMUNICATIONS CO...\n",
      "4498612  INVALID_DATE                  The Levi`s Brand Introduces Water\n",
      "5323098  INVALID_DATE                  TEXT-Fitch cuts Victoria Funding \n",
      "5407070  INVALID_DATE                The Levi'sÂ® Brand Introduces Water\n",
      "6002269  INVALID_DATE   Message from Her Excellency the Right Honoura...\n",
      "6157604  INVALID_DATE  8 Bottles, 1 Jean - The Levi'sÂ® Brand Introdu...\n",
      "6527049  INVALID_DATE  Update-Moody's places Antam's rating on review...\n",
      "6925399  INVALID_DATE       ClassOne Develops New Solstice Solution for \n"
     ]
    }
   ],
   "source": [
    "# Rows where timestamp is invalid\n",
    "index_label = [127460, 484840, 1116016, 2151064, 2225415, 3435406, 3802752, 4306751, 4498612, 5323098, 5407070, 6002269, 6157604, 6527049, 6925399]\n",
    "row_values = reuters_df.loc[index_label]\n",
    "print(row_values)"
   ]
  },
  {
   "cell_type": "code",
   "execution_count": 50,
   "id": "a05379f8-42bc-4952-995b-d45841c215aa",
   "metadata": {},
   "outputs": [],
   "source": [
    "reuters_df = reuters_df.drop(reuters_df.index[index_label])"
   ]
  },
  {
   "cell_type": "code",
   "execution_count": 55,
   "id": "76208422-1332-471b-97ed-639f1fcd4088",
   "metadata": {},
   "outputs": [],
   "source": [
    "tzinfos = {\n",
    "    \"EDT\": pytz.timezone(\"America/New_York\"),\n",
    "    \"EST\": pytz.timezone(\"America/New_York\"),\n",
    "    \"UTC\": pytz.utc,\n",
    "}"
   ]
  },
  {
   "cell_type": "code",
   "execution_count": 56,
   "id": "c368bf2e-ff3a-4bd6-9d9e-15ee0e5ad105",
   "metadata": {},
   "outputs": [],
   "source": [
    "# Convert the timestamp format to match the Bloomberg dataset\n",
    "def convert_timestamp(ts):\n",
    "    try:\n",
    "        dt = parser.parse(ts, tzinfos=tzinfos)\n",
    "        dt_utc = dt.astimezone(pytz.utc)\n",
    "        return dt_utc.strftime('%Y-%m-%d %H:%M')\n",
    "        \n",
    "    except ValueError:\n",
    "        return None"
   ]
  },
  {
   "cell_type": "code",
   "execution_count": 57,
   "id": "f46e2565-24a1-4a68-b513-b12c608f5fbf",
   "metadata": {},
   "outputs": [],
   "source": [
    "reuters_df['timestamp'] = reuters_df['timestamp'].apply(convert_timestamp)"
   ]
  },
  {
   "cell_type": "code",
   "execution_count": 59,
   "id": "2686540c-c85a-4f6b-bf8f-0bda3518d362",
   "metadata": {},
   "outputs": [],
   "source": [
    "reuters_df.sort_values(by='timestamp', inplace=True)"
   ]
  },
  {
   "attachments": {},
   "cell_type": "markdown",
   "id": "38766b4a-0636-4027-901b-5f6e1987c63b",
   "metadata": {},
   "source": [
    "### Save the DataFrame to a CSV file"
   ]
  },
  {
   "cell_type": "code",
   "execution_count": 61,
   "id": "b70a2a08-d604-4c1d-b099-c128bf6ad34c",
   "metadata": {},
   "outputs": [],
   "source": [
    "reuters_df.to_csv('/Users/macbook/Desktop/Year3/Dissertation/Coding/Exp1/Dataset/Reuters/Reuters.csv', index=False)"
   ]
  },
  {
   "attachments": {},
   "cell_type": "markdown",
   "id": "10fb0f32-d4ab-4383-82c2-9c7d7ea36b2d",
   "metadata": {},
   "source": [
    "### Data distribution"
   ]
  },
  {
   "attachments": {},
   "cell_type": "markdown",
   "id": "20be7389",
   "metadata": {},
   "source": [
    "#### Over weekdays"
   ]
  },
  {
   "cell_type": "code",
   "execution_count": 62,
   "id": "26217533-fa01-4e0c-8d6a-979fe429439e",
   "metadata": {},
   "outputs": [],
   "source": [
    "reuters_df_copy = reuters_df.copy(deep=True)"
   ]
  },
  {
   "cell_type": "code",
   "execution_count": 68,
   "id": "1ecd9eb7-b4b4-4f0b-b2e0-fb3651a328ce",
   "metadata": {},
   "outputs": [
    {
     "data": {
      "image/png": "[encoded data removed]",
      "text/plain": [
       "<Figure size 500x300 with 1 Axes>"
      ]
     },
     "metadata": {},
     "output_type": "display_data"
    }
   ],
   "source": [
    "create_bar(reuters_df_copy)"
   ]
  },
  {
   "cell_type": "code",
   "execution_count": 71,
   "id": "ded08542-42e2-4478-b706-e655846e3e51",
   "metadata": {},
   "outputs": [],
   "source": [
    "reuters_df_copy.to_csv('/Users/macbook/Desktop/Year3/Dissertation/Coding/Exp1/Dataset/Reuters/Reuters_copy.csv', index=False)"
   ]
  },
  {
   "attachments": {},
   "cell_type": "markdown",
   "id": "44025eba",
   "metadata": {},
   "source": [
    "#### News articles published per day/year"
   ]
  },
  {
   "cell_type": "code",
   "execution_count": 35,
   "id": "31691e5f",
   "metadata": {},
   "outputs": [
    {
     "data": {
      "image/png": "[encoded data removed]",
      "text/plain": [
       "<Figure size 490x330 with 1 Axes>"
      ]
     },
     "metadata": {},
     "output_type": "display_data"
    }
   ],
   "source": [
    "create_timeSeries(reuters_df_copy)"
   ]
  },
  {
   "attachments": {},
   "cell_type": "markdown",
   "id": "4628fab3-ab79-4e99-867b-c2cc67a93778",
   "metadata": {},
   "source": [
    "### Sort and preprocessing the data"
   ]
  },
  {
   "cell_type": "code",
   "execution_count": 5,
   "id": "4e3bda2e-b708-4386-8068-0c134b10ffe6",
   "metadata": {},
   "outputs": [],
   "source": [
    "# Merge both the Bloomberg and Reuters dataset\n",
    "dataset_df = pd.concat([bloomberg_df, reuters_df])"
   ]
  },
  {
   "cell_type": "code",
   "execution_count": 143,
   "id": "8374d34c-9989-44d9-ac79-1a5b9fa5502b",
   "metadata": {},
   "outputs": [
    {
     "name": "stdout",
     "output_type": "stream",
     "text": [
      "                timestamp                                           headline\n",
      "1732     2010-04-23 20:37  Chile Plans First Overseas Peso Bond in Raisin...\n",
      "2274     2010-04-27 00:34    Goldman Sachs E-Mail by Montag Faulted CDO Deal\n",
      "2377     2010-04-27 05:41  Indophil Says Chinese Approval for Zijin Offer...\n",
      "2475     2010-04-27 09:08  Ukraine Parliament Ratifies Russia Naval Lease...\n",
      "2513     2010-04-27 10:35  Smiths Group Sells Its First-Ever Euro Bonds t...\n",
      "...                   ...                                                ...\n",
      "1796004  2016-08-14 15:57  Pence greets supporters at home town burger re...\n",
      "1796003  2016-08-14 16:20  North Carolina mall on lockdown after reports ...\n",
      "1795999  2016-08-14 18:26  Muslim imam killed, 2nd man wounded in New Yor...\n",
      "2179359  2016-08-15 04:00        Violence in Milwaukee after police shooting\n",
      "1609354  2016-08-16 02:46                   TABLE-Orix Jreit -6 MTH forecast\n",
      "\n",
      "[163664 rows x 2 columns]\n"
     ]
    }
   ],
   "source": [
    "# Rows where both the timestamp and headline are duplicated\n",
    "print(dataset_df[dataset_df.duplicated(subset=['timestamp', 'headline'], keep='first')])"
   ]
  },
  {
   "cell_type": "code",
   "execution_count": 144,
   "id": "a966f6c4-c7d7-4e44-bd54-f5b12418c983",
   "metadata": {},
   "outputs": [
    {
     "name": "stdout",
     "output_type": "stream",
     "text": [
      "             timestamp                                           headline\n",
      "1731  2010-04-23 20:37  Chile Plans First Overseas Peso Bond in Raisin...\n",
      "1732  2010-04-23 20:37  Chile Plans First Overseas Peso Bond in Raisin...\n"
     ]
    }
   ],
   "source": [
    "print(dataset_df.iloc[[1731, 1732]])"
   ]
  },
  {
   "cell_type": "code",
   "execution_count": 6,
   "id": "f50df5b5-988c-4b67-9931-564a6d4eb4ea",
   "metadata": {},
   "outputs": [],
   "source": [
    "dataset_df = dataset_df.drop_duplicates(subset=['timestamp', 'headline'], keep='first')"
   ]
  },
  {
   "cell_type": "code",
   "execution_count": 31,
   "id": "64eb445d-0a1e-4a1b-ae56-b035608f0f99",
   "metadata": {},
   "outputs": [],
   "source": [
    "# Convert the 'timestamp' columns to datetime objects\n",
    "dataset_df['timestamp'] = pd.to_datetime(dataset_df['timestamp'])"
   ]
  },
  {
   "cell_type": "code",
   "execution_count": 8,
   "id": "50d3f971-0a1a-4db9-8f82-2f467051b79d",
   "metadata": {},
   "outputs": [],
   "source": [
    "# Rows where the headline is duplicated within the same day\n",
    "dataset_df['date'] = dataset_df['timestamp'].dt.date\n",
    "duplicate_mask = dataset_df.duplicated(subset=['date', 'headline'], keep='first')"
   ]
  },
  {
   "cell_type": "code",
   "execution_count": 9,
   "id": "56138dc6-5b0b-40a2-bd47-611e1b6c0ed3",
   "metadata": {},
   "outputs": [],
   "source": [
    "dataset_df = dataset_df[~duplicate_mask].drop(columns=['date'])"
   ]
  },
  {
   "cell_type": "code",
   "execution_count": 15,
   "id": "a602589e",
   "metadata": {},
   "outputs": [],
   "source": [
    "dataset_df.sort_values(by='timestamp', inplace=True)"
   ]
  },
  {
   "cell_type": "code",
   "execution_count": 12,
   "id": "0c7631e3-563b-4441-a8f6-b0553218fdd5",
   "metadata": {},
   "outputs": [
    {
     "name": "stdout",
     "output_type": "stream",
     "text": [
      "                  timestamp headline\n",
      "7125919 2014-09-10 07:00:00      NaN\n"
     ]
    }
   ],
   "source": [
    "# Rows where the headline in null\n",
    "print(dataset_df[dataset_df['headline'].isna()])"
   ]
  },
  {
   "cell_type": "code",
   "execution_count": 14,
   "id": "2e194033-59e5-4c40-b7a8-e3f001dd9fe8",
   "metadata": {},
   "outputs": [],
   "source": [
    "dataset_df.drop(7125919, inplace=True)"
   ]
  },
  {
   "cell_type": "code",
   "execution_count": null,
   "id": "c9119c48-3879-4e89-a293-e2828ab6dccd",
   "metadata": {},
   "outputs": [],
   "source": [
    "dataset_df['timestamp'] = dataset_df['timestamp'].dt.strftime('%Y-%m-%d %H:%M')"
   ]
  },
  {
   "cell_type": "code",
   "execution_count": 28,
   "id": "29c9fdf3-3687-4d14-aaed-c75dae0827d7",
   "metadata": {},
   "outputs": [],
   "source": [
    "# Reset the index to add a new column with the index for each row\n",
    "dataset_df.reset_index(drop=True, inplace=True)"
   ]
  },
  {
   "cell_type": "code",
   "execution_count": 29,
   "id": "bce37000-fc6e-4596-86d9-5d76b2fc2b75",
   "metadata": {},
   "outputs": [],
   "source": [
    "dataset_df.to_csv('/Users/macbook/Desktop/Year3/Dissertation/Coding/Exp1/Dataset/Bloomberg & Reuters.csv')"
   ]
  },
  {
   "attachments": {},
   "cell_type": "markdown",
   "id": "3071ea45-268c-40ed-aab5-c5e21a01493a",
   "metadata": {},
   "source": [
    "## Final dataset"
   ]
  },
  {
   "cell_type": "code",
   "execution_count": 32,
   "id": "09c8f05d-e70e-469f-9a6f-7334fbb0012b",
   "metadata": {},
   "outputs": [],
   "source": [
    "# Group the dataset by day\n",
    "grouped = dataset_df.groupby(dataset_df['timestamp'].dt.date)"
   ]
  },
  {
   "attachments": {},
   "cell_type": "markdown",
   "id": "ca12a1e1",
   "metadata": {},
   "source": [
    "### Save each day as a .CSV file"
   ]
  },
  {
   "cell_type": "code",
   "execution_count": 33,
   "id": "769640cd-3f0e-4fe4-b19c-27c23a3f1672",
   "metadata": {},
   "outputs": [],
   "source": [
    "output_directory = '/Users/macbook/Desktop/Year3/Dissertation/Coding/Exp1/Dataset/Bloomberg & Reuters'\n",
    "os.makedirs(output_directory, exist_ok=True)"
   ]
  },
  {
   "cell_type": "code",
   "execution_count": 40,
   "id": "6aa1c776-3c35-4239-bd4b-f1b275ae9d4f",
   "metadata": {},
   "outputs": [],
   "source": [
    "for date, group in grouped:\n",
    "    # Format the 'timestamp' column within the group\n",
    "    group['timestamp'] = group['timestamp'].dt.strftime('%Y-%m-%d %H:%M')\n",
    "\n",
    "    # Create a filename using the date as the name\n",
    "    filename = f\"{date}.csv\"\n",
    "    \n",
    "    filepath = os.path.join(output_directory, filename)\n",
    "    \n",
    "    # Save the modified group to .CSV file\n",
    "    group.to_csv(filepath, index=True)"
   ]
  }
 ],
 "metadata": {
  "kernelspec": {
   "display_name": "finbert",
   "language": "python",
   "name": "python3"
  },
  "language_info": {
   "codemirror_mode": {
    "name": "ipython",
    "version": 3
   },
   "file_extension": ".py",
   "mimetype": "text/x-python",
   "name": "python",
   "nbconvert_exporter": "python",
   "pygments_lexer": "ipython3",
   "version": "3.7.12 | packaged by conda-forge | (default, Oct 26 2021, 05:59:23) \n[Clang 11.1.0 ]"
  },
  "vscode": {
   "interpreter": {
    "hash": "0eb5bdf0c6c00eee069a2751ac9a69b1d64fe2f20b19a226c4e0a64f99d01c17"
   }
  }
 },
 "nbformat": 4,
 "nbformat_minor": 5
}
